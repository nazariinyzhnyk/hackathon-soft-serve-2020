{
 "cells": [
  {
   "cell_type": "code",
   "execution_count": 11,
   "metadata": {},
   "outputs": [],
   "source": [
    "import os\n",
    "\n",
    "import pandas as pd\n",
    "import matplotlib.pyplot as plt\n",
    "%matplotlib inline"
   ]
  },
  {
   "cell_type": "code",
   "execution_count": 3,
   "metadata": {},
   "outputs": [
    {
     "data": {
      "text/plain": [
       "['history.csv', 'submission.csv', 'employees.csv']"
      ]
     },
     "execution_count": 3,
     "metadata": {},
     "output_type": "execute_result"
    }
   ],
   "source": [
    "DATA_DIR = os.path.join('..', 'data')\n",
    "os.listdir(DATA_DIR)"
   ]
  },
  {
   "cell_type": "code",
   "execution_count": 14,
   "metadata": {},
   "outputs": [],
   "source": [
    "hist = pd.read_csv(os.path.join(DATA_DIR, 'history.csv'))\n",
    "empls = pd.read_csv(os.path.join(DATA_DIR, 'employees.csv'))\n",
    "sbmsn = pd.read_csv(os.path.join(DATA_DIR, 'submission.csv'))"
   ]
  },
  {
   "cell_type": "code",
   "execution_count": 15,
   "metadata": {},
   "outputs": [
    {
     "data": {
      "text/html": [
       "<div>\n",
       "<style scoped>\n",
       "    .dataframe tbody tr th:only-of-type {\n",
       "        vertical-align: middle;\n",
       "    }\n",
       "\n",
       "    .dataframe tbody tr th {\n",
       "        vertical-align: top;\n",
       "    }\n",
       "\n",
       "    .dataframe thead th {\n",
       "        text-align: right;\n",
       "    }\n",
       "</style>\n",
       "<table border=\"1\" class=\"dataframe\">\n",
       "  <thead>\n",
       "    <tr style=\"text-align: right;\">\n",
       "      <th></th>\n",
       "      <th>EmployeeID</th>\n",
       "      <th>HiringDate</th>\n",
       "      <th>DismissalDate</th>\n",
       "    </tr>\n",
       "  </thead>\n",
       "  <tbody>\n",
       "    <tr>\n",
       "      <td>0</td>\n",
       "      <td>01EDC1A7-5DA7-4939-854B-0002E0DF548D</td>\n",
       "      <td>9/1/18</td>\n",
       "      <td>NaN</td>\n",
       "    </tr>\n",
       "    <tr>\n",
       "      <td>1</td>\n",
       "      <td>91C351D9-38A1-40CB-9B69-000774211859</td>\n",
       "      <td>1/1/18</td>\n",
       "      <td>2/1/19</td>\n",
       "    </tr>\n",
       "    <tr>\n",
       "      <td>2</td>\n",
       "      <td>D699327D-8A78-4FBE-9CEA-001355717D3F</td>\n",
       "      <td>2/1/18</td>\n",
       "      <td>NaN</td>\n",
       "    </tr>\n",
       "    <tr>\n",
       "      <td>3</td>\n",
       "      <td>22102E27-5EEA-44F9-8632-0017B04B1236</td>\n",
       "      <td>10/1/14</td>\n",
       "      <td>5/1/18</td>\n",
       "    </tr>\n",
       "    <tr>\n",
       "      <td>4</td>\n",
       "      <td>08C0AFA9-ABC3-4FAF-8DE2-0018AE9A69F4</td>\n",
       "      <td>9/1/10</td>\n",
       "      <td>NaN</td>\n",
       "    </tr>\n",
       "  </tbody>\n",
       "</table>\n",
       "</div>"
      ],
      "text/plain": [
       "                             EmployeeID HiringDate DismissalDate\n",
       "0  01EDC1A7-5DA7-4939-854B-0002E0DF548D     9/1/18           NaN\n",
       "1  91C351D9-38A1-40CB-9B69-000774211859     1/1/18        2/1/19\n",
       "2  D699327D-8A78-4FBE-9CEA-001355717D3F     2/1/18           NaN\n",
       "3  22102E27-5EEA-44F9-8632-0017B04B1236    10/1/14        5/1/18\n",
       "4  08C0AFA9-ABC3-4FAF-8DE2-0018AE9A69F4     9/1/10           NaN"
      ]
     },
     "execution_count": 15,
     "metadata": {},
     "output_type": "execute_result"
    }
   ],
   "source": [
    "empls.head()"
   ]
  },
  {
   "cell_type": "code",
   "execution_count": 16,
   "metadata": {},
   "outputs": [
    {
     "data": {
      "text/plain": [
       "5373"
      ]
     },
     "execution_count": 16,
     "metadata": {},
     "output_type": "execute_result"
    }
   ],
   "source": [
    "len(empls)"
   ]
  },
  {
   "cell_type": "code",
   "execution_count": 17,
   "metadata": {},
   "outputs": [
    {
     "data": {
      "text/plain": [
       "5373"
      ]
     },
     "execution_count": 17,
     "metadata": {},
     "output_type": "execute_result"
    }
   ],
   "source": [
    "empls.EmployeeID.nunique()"
   ]
  },
  {
   "cell_type": "code",
   "execution_count": 20,
   "metadata": {},
   "outputs": [
    {
     "data": {
      "text/html": [
       "<div>\n",
       "<style scoped>\n",
       "    .dataframe tbody tr th:only-of-type {\n",
       "        vertical-align: middle;\n",
       "    }\n",
       "\n",
       "    .dataframe tbody tr th {\n",
       "        vertical-align: top;\n",
       "    }\n",
       "\n",
       "    .dataframe thead th {\n",
       "        text-align: right;\n",
       "    }\n",
       "</style>\n",
       "<table border=\"1\" class=\"dataframe\">\n",
       "  <thead>\n",
       "    <tr style=\"text-align: right;\">\n",
       "      <th></th>\n",
       "      <th>EmployeeID</th>\n",
       "      <th>HiringDate</th>\n",
       "      <th>DismissalDate</th>\n",
       "    </tr>\n",
       "  </thead>\n",
       "  <tbody>\n",
       "    <tr>\n",
       "      <td>0</td>\n",
       "      <td>01EDC1A7-5DA7-4939-854B-0002E0DF548D</td>\n",
       "      <td>9/1/18</td>\n",
       "      <td>NaN</td>\n",
       "    </tr>\n",
       "    <tr>\n",
       "      <td>2</td>\n",
       "      <td>D699327D-8A78-4FBE-9CEA-001355717D3F</td>\n",
       "      <td>2/1/18</td>\n",
       "      <td>NaN</td>\n",
       "    </tr>\n",
       "    <tr>\n",
       "      <td>4</td>\n",
       "      <td>08C0AFA9-ABC3-4FAF-8DE2-0018AE9A69F4</td>\n",
       "      <td>9/1/10</td>\n",
       "      <td>NaN</td>\n",
       "    </tr>\n",
       "    <tr>\n",
       "      <td>6</td>\n",
       "      <td>FA5F9156-0C2E-4462-B045-002E6E259B49</td>\n",
       "      <td>3/1/18</td>\n",
       "      <td>NaN</td>\n",
       "    </tr>\n",
       "    <tr>\n",
       "      <td>8</td>\n",
       "      <td>F080C1DE-1803-461A-AF0B-004E19CBD634</td>\n",
       "      <td>6/1/18</td>\n",
       "      <td>NaN</td>\n",
       "    </tr>\n",
       "    <tr>\n",
       "      <td>...</td>\n",
       "      <td>...</td>\n",
       "      <td>...</td>\n",
       "      <td>...</td>\n",
       "    </tr>\n",
       "    <tr>\n",
       "      <td>5367</td>\n",
       "      <td>9634B9D2-6519-4345-AD76-FFA34A10A26D</td>\n",
       "      <td>3/1/15</td>\n",
       "      <td>NaN</td>\n",
       "    </tr>\n",
       "    <tr>\n",
       "      <td>5369</td>\n",
       "      <td>4D599D15-30AD-461B-B35A-FFB29D5F3A57</td>\n",
       "      <td>3/1/17</td>\n",
       "      <td>NaN</td>\n",
       "    </tr>\n",
       "    <tr>\n",
       "      <td>5370</td>\n",
       "      <td>F7A06FC0-8117-495D-BA4B-FFD4B9306DA2</td>\n",
       "      <td>9/1/14</td>\n",
       "      <td>NaN</td>\n",
       "    </tr>\n",
       "    <tr>\n",
       "      <td>5371</td>\n",
       "      <td>6204EE4F-26E3-437B-85C1-FFED4CC7B6C8</td>\n",
       "      <td>4/1/16</td>\n",
       "      <td>NaN</td>\n",
       "    </tr>\n",
       "    <tr>\n",
       "      <td>5372</td>\n",
       "      <td>C71C70C7-DBB2-45BD-9DB2-FFF30F1A77F1</td>\n",
       "      <td>10/1/16</td>\n",
       "      <td>NaN</td>\n",
       "    </tr>\n",
       "  </tbody>\n",
       "</table>\n",
       "<p>4356 rows × 3 columns</p>\n",
       "</div>"
      ],
      "text/plain": [
       "                                EmployeeID HiringDate DismissalDate\n",
       "0     01EDC1A7-5DA7-4939-854B-0002E0DF548D     9/1/18           NaN\n",
       "2     D699327D-8A78-4FBE-9CEA-001355717D3F     2/1/18           NaN\n",
       "4     08C0AFA9-ABC3-4FAF-8DE2-0018AE9A69F4     9/1/10           NaN\n",
       "6     FA5F9156-0C2E-4462-B045-002E6E259B49     3/1/18           NaN\n",
       "8     F080C1DE-1803-461A-AF0B-004E19CBD634     6/1/18           NaN\n",
       "...                                    ...        ...           ...\n",
       "5367  9634B9D2-6519-4345-AD76-FFA34A10A26D     3/1/15           NaN\n",
       "5369  4D599D15-30AD-461B-B35A-FFB29D5F3A57     3/1/17           NaN\n",
       "5370  F7A06FC0-8117-495D-BA4B-FFD4B9306DA2     9/1/14           NaN\n",
       "5371  6204EE4F-26E3-437B-85C1-FFED4CC7B6C8     4/1/16           NaN\n",
       "5372  C71C70C7-DBB2-45BD-9DB2-FFF30F1A77F1    10/1/16           NaN\n",
       "\n",
       "[4356 rows x 3 columns]"
      ]
     },
     "execution_count": 20,
     "metadata": {},
     "output_type": "execute_result"
    }
   ],
   "source": [
    "empls[empls['DismissalDate'].isnull()]"
   ]
  },
  {
   "cell_type": "code",
   "execution_count": 24,
   "metadata": {},
   "outputs": [
    {
     "data": {
      "text/plain": [
       "set()"
      ]
     },
     "execution_count": 24,
     "metadata": {},
     "output_type": "execute_result"
    }
   ],
   "source": [
    "set(sbmsn.EmployeeID) - set(empls.EmployeeID)"
   ]
  },
  {
   "cell_type": "code",
   "execution_count": 25,
   "metadata": {},
   "outputs": [
    {
     "data": {
      "text/plain": [
       "87766"
      ]
     },
     "execution_count": 25,
     "metadata": {},
     "output_type": "execute_result"
    }
   ],
   "source": [
    "len(hist)"
   ]
  },
  {
   "cell_type": "code",
   "execution_count": 26,
   "metadata": {},
   "outputs": [],
   "source": [
    "df = hist.merge(empls)"
   ]
  },
  {
   "cell_type": "code",
   "execution_count": 27,
   "metadata": {},
   "outputs": [
    {
     "data": {
      "text/plain": [
       "87766"
      ]
     },
     "execution_count": 27,
     "metadata": {},
     "output_type": "execute_result"
    }
   ],
   "source": [
    "len(df)"
   ]
  },
  {
   "cell_type": "code",
   "execution_count": 28,
   "metadata": {},
   "outputs": [
    {
     "data": {
      "text/html": [
       "<div>\n",
       "<style scoped>\n",
       "    .dataframe tbody tr th:only-of-type {\n",
       "        vertical-align: middle;\n",
       "    }\n",
       "\n",
       "    .dataframe tbody tr th {\n",
       "        vertical-align: top;\n",
       "    }\n",
       "\n",
       "    .dataframe thead th {\n",
       "        text-align: right;\n",
       "    }\n",
       "</style>\n",
       "<table border=\"1\" class=\"dataframe\">\n",
       "  <thead>\n",
       "    <tr style=\"text-align: right;\">\n",
       "      <th></th>\n",
       "      <th>EmployeeID</th>\n",
       "      <th>Date</th>\n",
       "      <th>DevCenterID</th>\n",
       "      <th>SBUID</th>\n",
       "      <th>PositionID</th>\n",
       "      <th>PositionLevel</th>\n",
       "      <th>IsTrainee</th>\n",
       "      <th>LanguageLevelID</th>\n",
       "      <th>CustomerID</th>\n",
       "      <th>ProjectID</th>\n",
       "      <th>...</th>\n",
       "      <th>CompetenceGroupID</th>\n",
       "      <th>FunctionalOfficeID</th>\n",
       "      <th>PaymentTypeId</th>\n",
       "      <th>BonusOneTime</th>\n",
       "      <th>APM</th>\n",
       "      <th>WageGross</th>\n",
       "      <th>MonthOnPosition</th>\n",
       "      <th>MonthOnSalary</th>\n",
       "      <th>HiringDate</th>\n",
       "      <th>DismissalDate</th>\n",
       "    </tr>\n",
       "  </thead>\n",
       "  <tbody>\n",
       "    <tr>\n",
       "      <td>0</td>\n",
       "      <td>00116D71-E87D-4B64-A566-1F29B2A798A8</td>\n",
       "      <td>7/1/17</td>\n",
       "      <td>3</td>\n",
       "      <td>292</td>\n",
       "      <td>70</td>\n",
       "      <td>2</td>\n",
       "      <td>0</td>\n",
       "      <td>11</td>\n",
       "      <td>893EA22F-08BE-4F11-AD93-C50746E4565F</td>\n",
       "      <td>7F97465B-ED3C-45DB-BE96-86C7E493F0CD</td>\n",
       "      <td>...</td>\n",
       "      <td>15</td>\n",
       "      <td>1</td>\n",
       "      <td>9</td>\n",
       "      <td>0</td>\n",
       "      <td>39</td>\n",
       "      <td>0.887446</td>\n",
       "      <td>1</td>\n",
       "      <td>1</td>\n",
       "      <td>6/1/13</td>\n",
       "      <td>NaN</td>\n",
       "    </tr>\n",
       "    <tr>\n",
       "      <td>1</td>\n",
       "      <td>00116D71-E87D-4B64-A566-1F29B2A798A8</td>\n",
       "      <td>8/1/17</td>\n",
       "      <td>3</td>\n",
       "      <td>332</td>\n",
       "      <td>70</td>\n",
       "      <td>2</td>\n",
       "      <td>0</td>\n",
       "      <td>11</td>\n",
       "      <td>893EA22F-08BE-4F11-AD93-C50746E4565F</td>\n",
       "      <td>7F97465B-ED3C-45DB-BE96-86C7E493F0CD</td>\n",
       "      <td>...</td>\n",
       "      <td>15</td>\n",
       "      <td>1</td>\n",
       "      <td>9</td>\n",
       "      <td>200</td>\n",
       "      <td>28</td>\n",
       "      <td>0.887446</td>\n",
       "      <td>2</td>\n",
       "      <td>2</td>\n",
       "      <td>6/1/13</td>\n",
       "      <td>NaN</td>\n",
       "    </tr>\n",
       "    <tr>\n",
       "      <td>2</td>\n",
       "      <td>00116D71-E87D-4B64-A566-1F29B2A798A8</td>\n",
       "      <td>9/1/17</td>\n",
       "      <td>3</td>\n",
       "      <td>332</td>\n",
       "      <td>70</td>\n",
       "      <td>2</td>\n",
       "      <td>0</td>\n",
       "      <td>11</td>\n",
       "      <td>893EA22F-08BE-4F11-AD93-C50746E4565F</td>\n",
       "      <td>7F97465B-ED3C-45DB-BE96-86C7E493F0CD</td>\n",
       "      <td>...</td>\n",
       "      <td>15</td>\n",
       "      <td>1</td>\n",
       "      <td>9</td>\n",
       "      <td>0</td>\n",
       "      <td>43</td>\n",
       "      <td>0.887446</td>\n",
       "      <td>3</td>\n",
       "      <td>3</td>\n",
       "      <td>6/1/13</td>\n",
       "      <td>NaN</td>\n",
       "    </tr>\n",
       "    <tr>\n",
       "      <td>3</td>\n",
       "      <td>00116D71-E87D-4B64-A566-1F29B2A798A8</td>\n",
       "      <td>10/1/17</td>\n",
       "      <td>3</td>\n",
       "      <td>332</td>\n",
       "      <td>70</td>\n",
       "      <td>2</td>\n",
       "      <td>0</td>\n",
       "      <td>11</td>\n",
       "      <td>893EA22F-08BE-4F11-AD93-C50746E4565F</td>\n",
       "      <td>7F97465B-ED3C-45DB-BE96-86C7E493F0CD</td>\n",
       "      <td>...</td>\n",
       "      <td>15</td>\n",
       "      <td>1</td>\n",
       "      <td>9</td>\n",
       "      <td>0</td>\n",
       "      <td>49</td>\n",
       "      <td>0.887446</td>\n",
       "      <td>4</td>\n",
       "      <td>4</td>\n",
       "      <td>6/1/13</td>\n",
       "      <td>NaN</td>\n",
       "    </tr>\n",
       "    <tr>\n",
       "      <td>4</td>\n",
       "      <td>00116D71-E87D-4B64-A566-1F29B2A798A8</td>\n",
       "      <td>11/1/17</td>\n",
       "      <td>3</td>\n",
       "      <td>332</td>\n",
       "      <td>70</td>\n",
       "      <td>2</td>\n",
       "      <td>0</td>\n",
       "      <td>11</td>\n",
       "      <td>893EA22F-08BE-4F11-AD93-C50746E4565F</td>\n",
       "      <td>7F97465B-ED3C-45DB-BE96-86C7E493F0CD</td>\n",
       "      <td>...</td>\n",
       "      <td>15</td>\n",
       "      <td>1</td>\n",
       "      <td>9</td>\n",
       "      <td>0</td>\n",
       "      <td>43</td>\n",
       "      <td>0.887446</td>\n",
       "      <td>5</td>\n",
       "      <td>5</td>\n",
       "      <td>6/1/13</td>\n",
       "      <td>NaN</td>\n",
       "    </tr>\n",
       "  </tbody>\n",
       "</table>\n",
       "<p>5 rows × 26 columns</p>\n",
       "</div>"
      ],
      "text/plain": [
       "                             EmployeeID     Date  DevCenterID  SBUID  \\\n",
       "0  00116D71-E87D-4B64-A566-1F29B2A798A8   7/1/17            3    292   \n",
       "1  00116D71-E87D-4B64-A566-1F29B2A798A8   8/1/17            3    332   \n",
       "2  00116D71-E87D-4B64-A566-1F29B2A798A8   9/1/17            3    332   \n",
       "3  00116D71-E87D-4B64-A566-1F29B2A798A8  10/1/17            3    332   \n",
       "4  00116D71-E87D-4B64-A566-1F29B2A798A8  11/1/17            3    332   \n",
       "\n",
       "   PositionID  PositionLevel  IsTrainee  LanguageLevelID  \\\n",
       "0          70              2          0               11   \n",
       "1          70              2          0               11   \n",
       "2          70              2          0               11   \n",
       "3          70              2          0               11   \n",
       "4          70              2          0               11   \n",
       "\n",
       "                             CustomerID                             ProjectID  \\\n",
       "0  893EA22F-08BE-4F11-AD93-C50746E4565F  7F97465B-ED3C-45DB-BE96-86C7E493F0CD   \n",
       "1  893EA22F-08BE-4F11-AD93-C50746E4565F  7F97465B-ED3C-45DB-BE96-86C7E493F0CD   \n",
       "2  893EA22F-08BE-4F11-AD93-C50746E4565F  7F97465B-ED3C-45DB-BE96-86C7E493F0CD   \n",
       "3  893EA22F-08BE-4F11-AD93-C50746E4565F  7F97465B-ED3C-45DB-BE96-86C7E493F0CD   \n",
       "4  893EA22F-08BE-4F11-AD93-C50746E4565F  7F97465B-ED3C-45DB-BE96-86C7E493F0CD   \n",
       "\n",
       "   ...  CompetenceGroupID  FunctionalOfficeID  PaymentTypeId  BonusOneTime  \\\n",
       "0  ...                 15                   1              9             0   \n",
       "1  ...                 15                   1              9           200   \n",
       "2  ...                 15                   1              9             0   \n",
       "3  ...                 15                   1              9             0   \n",
       "4  ...                 15                   1              9             0   \n",
       "\n",
       "   APM  WageGross  MonthOnPosition  MonthOnSalary  HiringDate  DismissalDate  \n",
       "0   39   0.887446                1              1      6/1/13            NaN  \n",
       "1   28   0.887446                2              2      6/1/13            NaN  \n",
       "2   43   0.887446                3              3      6/1/13            NaN  \n",
       "3   49   0.887446                4              4      6/1/13            NaN  \n",
       "4   43   0.887446                5              5      6/1/13            NaN  \n",
       "\n",
       "[5 rows x 26 columns]"
      ]
     },
     "execution_count": 28,
     "metadata": {},
     "output_type": "execute_result"
    }
   ],
   "source": [
    "df.head()"
   ]
  },
  {
   "cell_type": "code",
   "execution_count": null,
   "metadata": {},
   "outputs": [],
   "source": []
  }
 ],
 "metadata": {
  "kernelspec": {
   "display_name": "Python 3",
   "language": "python",
   "name": "python3"
  },
  "language_info": {
   "codemirror_mode": {
    "name": "ipython",
    "version": 3
   },
   "file_extension": ".py",
   "mimetype": "text/x-python",
   "name": "python",
   "nbconvert_exporter": "python",
   "pygments_lexer": "ipython3",
   "version": "3.7.4"
  }
 },
 "nbformat": 4,
 "nbformat_minor": 4
}
