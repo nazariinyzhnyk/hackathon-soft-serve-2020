{
 "cells": [
  {
   "cell_type": "code",
   "execution_count": 69,
   "metadata": {},
   "outputs": [],
   "source": [
    "import pandas as pd\n",
    "import numpy as np\n",
    "\n",
    "from sklearn.metrics import fbeta_score\n",
    "\n",
    "pd.options.display.max_colwidth=100\n",
    "pd.options.display.max_columns=300\n",
    "\n",
    "employees = pd.read_csv(\"data/employees.csv\")\n",
    "history = pd.read_csv(\"data/history.csv\")\n",
    "submission = pd.read_csv(\"data/submission.csv\")\n",
    "\n",
    "# history.loc[:,'Date'] = list(pd.to_datetime(history['Date']))\n",
    "\n",
    "def get_month(text):\n",
    "    if type(text) == str:\n",
    "        numbers = text.split(\"/\")\n",
    "        return int(numbers[0])\n",
    "\n",
    "def get_year(text):\n",
    "    if type(text) == str:\n",
    "        numbers = text.split(\"/\")\n",
    "        return int(numbers[-1])\n",
    "\n",
    "\n",
    "\n",
    "# for data labeling\n",
    "def label_df(data, n_month=3):\n",
    "    labels = []\n",
    "    for emp in data.EmployeeID.unique():\n",
    "        curr_emp = list(data[data.EmployeeID == emp]['DismissalDate'])\n",
    "        len_emp = len(curr_emp)\n",
    "        if pd.isnull(curr_emp[0]):\n",
    "            labels += [0 for _ in range(len_emp - n_month)] + [2 for _ in range(n_month)]\n",
    "        else:\n",
    "            labels += [0 for _ in range(len_emp - n_month)] + [1 for _ in range(n_month)]\n",
    "    return labels\n"
   ]
  },
  {
   "cell_type": "code",
   "execution_count": 70,
   "metadata": {},
   "outputs": [],
   "source": [
    "df = history.merge(employees)\n",
    "lbls = label_df(df)"
   ]
  },
  {
   "cell_type": "code",
   "execution_count": 71,
   "metadata": {},
   "outputs": [],
   "source": [
    "df[\"target\"] = lbls\n",
    "df['Date'] = list(pd.to_datetime(df['Date']))"
   ]
  },
  {
   "cell_type": "code",
   "execution_count": 72,
   "metadata": {},
   "outputs": [],
   "source": [
    "df = df.sort_values(\"Date\")"
   ]
  },
  {
   "cell_type": "code",
   "execution_count": 73,
   "metadata": {},
   "outputs": [
    {
     "data": {
      "text/plain": [
       "4156"
      ]
     },
     "execution_count": 73,
     "metadata": {},
     "output_type": "execute_result"
    }
   ],
   "source": [
    "X_test = df[df.EmployeeID.isin(set(submission.EmployeeID))]\n",
    "X_test = X_test.drop_duplicates(subset=[\"EmployeeID\"], keep='last')\n",
    "len(X_test)"
   ]
  },
  {
   "cell_type": "code",
   "execution_count": 74,
   "metadata": {},
   "outputs": [],
   "source": [
    "X_test_Employee = X_test[\"EmployeeID\"]"
   ]
  },
  {
   "cell_type": "code",
   "execution_count": 75,
   "metadata": {},
   "outputs": [],
   "source": [
    "test_index = X_test.index\n",
    "train_index = list(set(list(df.index)).difference(set(list(test_index))))\n",
    "X_train = df.loc[train_index, :]\n",
    "\n",
    "X_train = X_train[X_train.target != 2]"
   ]
  },
  {
   "cell_type": "code",
   "execution_count": 76,
   "metadata": {},
   "outputs": [
    {
     "data": {
      "text/html": [
       "<div>\n",
       "<style scoped>\n",
       "    .dataframe tbody tr th:only-of-type {\n",
       "        vertical-align: middle;\n",
       "    }\n",
       "\n",
       "    .dataframe tbody tr th {\n",
       "        vertical-align: top;\n",
       "    }\n",
       "\n",
       "    .dataframe thead th {\n",
       "        text-align: right;\n",
       "    }\n",
       "</style>\n",
       "<table border=\"1\" class=\"dataframe\">\n",
       "  <thead>\n",
       "    <tr style=\"text-align: right;\">\n",
       "      <th></th>\n",
       "      <th>EmployeeID</th>\n",
       "      <th>Date</th>\n",
       "      <th>DevCenterID</th>\n",
       "      <th>SBUID</th>\n",
       "      <th>PositionID</th>\n",
       "      <th>PositionLevel</th>\n",
       "      <th>IsTrainee</th>\n",
       "      <th>LanguageLevelID</th>\n",
       "      <th>CustomerID</th>\n",
       "      <th>ProjectID</th>\n",
       "      <th>IsInternalProject</th>\n",
       "      <th>Utilization</th>\n",
       "      <th>HourVacation</th>\n",
       "      <th>HourMobileReserve</th>\n",
       "      <th>HourLockedReserve</th>\n",
       "      <th>OnSite</th>\n",
       "      <th>CompetenceGroupID</th>\n",
       "      <th>FunctionalOfficeID</th>\n",
       "      <th>PaymentTypeId</th>\n",
       "      <th>BonusOneTime</th>\n",
       "      <th>APM</th>\n",
       "      <th>WageGross</th>\n",
       "      <th>MonthOnPosition</th>\n",
       "      <th>MonthOnSalary</th>\n",
       "      <th>HiringDate</th>\n",
       "      <th>DismissalDate</th>\n",
       "      <th>target</th>\n",
       "    </tr>\n",
       "  </thead>\n",
       "  <tbody>\n",
       "    <tr>\n",
       "      <th>0</th>\n",
       "      <td>00116D71-E87D-4B64-A566-1F29B2A798A8</td>\n",
       "      <td>2017-07-01</td>\n",
       "      <td>3</td>\n",
       "      <td>292</td>\n",
       "      <td>70</td>\n",
       "      <td>2</td>\n",
       "      <td>0</td>\n",
       "      <td>11</td>\n",
       "      <td>893EA22F-08BE-4F11-AD93-C50746E4565F</td>\n",
       "      <td>7F97465B-ED3C-45DB-BE96-86C7E493F0CD</td>\n",
       "      <td>0</td>\n",
       "      <td>0.7619</td>\n",
       "      <td>40</td>\n",
       "      <td>0</td>\n",
       "      <td>0</td>\n",
       "      <td>0</td>\n",
       "      <td>15</td>\n",
       "      <td>1</td>\n",
       "      <td>9</td>\n",
       "      <td>0</td>\n",
       "      <td>39</td>\n",
       "      <td>0.887446</td>\n",
       "      <td>1</td>\n",
       "      <td>1</td>\n",
       "      <td>6/1/13</td>\n",
       "      <td>NaN</td>\n",
       "      <td>0</td>\n",
       "    </tr>\n",
       "    <tr>\n",
       "      <th>1</th>\n",
       "      <td>00116D71-E87D-4B64-A566-1F29B2A798A8</td>\n",
       "      <td>2017-08-01</td>\n",
       "      <td>3</td>\n",
       "      <td>332</td>\n",
       "      <td>70</td>\n",
       "      <td>2</td>\n",
       "      <td>0</td>\n",
       "      <td>11</td>\n",
       "      <td>893EA22F-08BE-4F11-AD93-C50746E4565F</td>\n",
       "      <td>7F97465B-ED3C-45DB-BE96-86C7E493F0CD</td>\n",
       "      <td>0</td>\n",
       "      <td>1.0000</td>\n",
       "      <td>0</td>\n",
       "      <td>0</td>\n",
       "      <td>0</td>\n",
       "      <td>0</td>\n",
       "      <td>15</td>\n",
       "      <td>1</td>\n",
       "      <td>9</td>\n",
       "      <td>200</td>\n",
       "      <td>28</td>\n",
       "      <td>0.887446</td>\n",
       "      <td>2</td>\n",
       "      <td>2</td>\n",
       "      <td>6/1/13</td>\n",
       "      <td>NaN</td>\n",
       "      <td>0</td>\n",
       "    </tr>\n",
       "  </tbody>\n",
       "</table>\n",
       "</div>"
      ],
      "text/plain": [
       "                             EmployeeID       Date  DevCenterID  SBUID  \\\n",
       "0  00116D71-E87D-4B64-A566-1F29B2A798A8 2017-07-01            3    292   \n",
       "1  00116D71-E87D-4B64-A566-1F29B2A798A8 2017-08-01            3    332   \n",
       "\n",
       "   PositionID  PositionLevel  IsTrainee  LanguageLevelID  \\\n",
       "0          70              2          0               11   \n",
       "1          70              2          0               11   \n",
       "\n",
       "                             CustomerID                             ProjectID  \\\n",
       "0  893EA22F-08BE-4F11-AD93-C50746E4565F  7F97465B-ED3C-45DB-BE96-86C7E493F0CD   \n",
       "1  893EA22F-08BE-4F11-AD93-C50746E4565F  7F97465B-ED3C-45DB-BE96-86C7E493F0CD   \n",
       "\n",
       "   IsInternalProject  Utilization  HourVacation  HourMobileReserve  \\\n",
       "0                  0       0.7619            40                  0   \n",
       "1                  0       1.0000             0                  0   \n",
       "\n",
       "   HourLockedReserve  OnSite  CompetenceGroupID  FunctionalOfficeID  \\\n",
       "0                  0       0                 15                   1   \n",
       "1                  0       0                 15                   1   \n",
       "\n",
       "   PaymentTypeId  BonusOneTime  APM  WageGross  MonthOnPosition  \\\n",
       "0              9             0   39   0.887446                1   \n",
       "1              9           200   28   0.887446                2   \n",
       "\n",
       "   MonthOnSalary HiringDate DismissalDate  target  \n",
       "0              1     6/1/13           NaN       0  \n",
       "1              2     6/1/13           NaN       0  "
      ]
     },
     "execution_count": 76,
     "metadata": {},
     "output_type": "execute_result"
    }
   ],
   "source": [
    "X_train.head(2)"
   ]
  },
  {
   "cell_type": "code",
   "execution_count": 77,
   "metadata": {},
   "outputs": [],
   "source": [
    "columns_to_drop = ['EmployeeID', 'HiringDate', 'DismissalDate']\n",
    "\n",
    "cat_columns = ['DevCenterID', 'SBUID', 'PositionID', 'PositionLevel', \n",
    "               'IsTrainee', 'LanguageLevelID', 'CustomerID', 'ProjectID', \n",
    "               'IsInternalProject', 'OnSite', 'CompetenceGroupID', 'FunctionalOfficeID',\n",
    "               'PaymentTypeId']"
   ]
  },
  {
   "cell_type": "code",
   "execution_count": 78,
   "metadata": {},
   "outputs": [],
   "source": [
    "X_train = X_train.drop(columns_to_drop, axis = 1)\n",
    "X_test = X_test.drop(columns_to_drop, axis = 1)"
   ]
  },
  {
   "cell_type": "code",
   "execution_count": 79,
   "metadata": {},
   "outputs": [],
   "source": [
    "X_test = X_test.drop(\"target\", axis=1)"
   ]
  },
  {
   "cell_type": "code",
   "execution_count": 80,
   "metadata": {},
   "outputs": [],
   "source": [
    "y = X_train[\"target\"]"
   ]
  },
  {
   "cell_type": "code",
   "execution_count": 81,
   "metadata": {},
   "outputs": [],
   "source": [
    "X_train = X_train.drop(columns=[\"Date\", \"target\"])"
   ]
  },
  {
   "cell_type": "code",
   "execution_count": 82,
   "metadata": {},
   "outputs": [],
   "source": [
    "from category_encoders.basen import BaseNEncoder\n",
    "encoder = BaseNEncoder(cols = cat_columns, base = 2)\n",
    "\n",
    "X = encoder.fit_transform(X_train)"
   ]
  },
  {
   "cell_type": "code",
   "execution_count": 83,
   "metadata": {},
   "outputs": [],
   "source": [
    "# y = X[\"target\"]\n",
    "# X = X.drop(\"target\", axis=1)\n",
    "#X = X.drop(\"Date\", axis=1)"
   ]
  },
  {
   "cell_type": "markdown",
   "metadata": {},
   "source": [
    "### Try XGBoost"
   ]
  },
  {
   "cell_type": "code",
   "execution_count": 84,
   "metadata": {},
   "outputs": [
    {
     "data": {
      "text/plain": [
       "0.9591555329459959"
      ]
     },
     "execution_count": 84,
     "metadata": {},
     "output_type": "execute_result"
    }
   ],
   "source": [
    "71647/(71647+3051)"
   ]
  },
  {
   "cell_type": "code",
   "execution_count": 85,
   "metadata": {},
   "outputs": [
    {
     "data": {
      "text/plain": [
       "0    71647\n",
       "1     3051\n",
       "Name: target, dtype: int64"
      ]
     },
     "execution_count": 85,
     "metadata": {},
     "output_type": "execute_result"
    }
   ],
   "source": [
    "y.value_counts()"
   ]
  },
  {
   "cell_type": "code",
   "execution_count": 86,
   "metadata": {},
   "outputs": [],
   "source": [
    "import xgboost as xgb"
   ]
  },
  {
   "cell_type": "code",
   "execution_count": 87,
   "metadata": {},
   "outputs": [],
   "source": [
    "xg_clas = xgb.XGBClassifier(scale_pos_weight=96)"
   ]
  },
  {
   "cell_type": "code",
   "execution_count": 88,
   "metadata": {},
   "outputs": [],
   "source": [
    "from sklearn.metrics import fbeta_score"
   ]
  },
  {
   "cell_type": "code",
   "execution_count": 104,
   "metadata": {},
   "outputs": [
    {
     "name": "stdout",
     "output_type": "stream",
     "text": [
      "FOLD #1\n",
      "0.31616154062150326\n",
      "FOLD #2\n",
      "0.29567554488025144\n",
      "FOLD #3\n",
      "0.28340061308062603\n",
      "FOLD #4\n",
      "0.29224142421974175\n"
     ]
    }
   ],
   "source": [
    "import random\n",
    "from sklearn.model_selection import KFold\n",
    "\n",
    "RANDOM_SEED = 42\n",
    "\n",
    "kf = KFold(n_splits=4, random_state=RANDOM_SEED, shuffle=True)\n",
    "\n",
    "waccs = []\n",
    "fold = 1\n",
    "for train_index, test_index in kf.split(X):\n",
    "    print('FOLD #{}'.format(fold))\n",
    "    fold += 1\n",
    "    X_train_, X_val = X.loc[X.index.intersection(train_index)], X.loc[X.index.intersection(test_index)]\n",
    "    y_train_, y_val = y.loc[y.index.intersection(train_index)], y.loc[y.index.intersection(test_index)]\n",
    "\n",
    "    xg_clas = xgb.XGBClassifier(\n",
    "        learning_rate =0.1, \n",
    "        n_estimators=1000,\n",
    "        gamma=0.4,\n",
    "        subsample=0.55,\n",
    "        colsample_bytree=0.85,\n",
    "        max_depth = 3,\n",
    "        min_child_weight = 5,\n",
    "        objective= 'binary:logistic', nthread=10,scale_pos_weight=95,seed=27\n",
    "    )\n",
    "    \n",
    "    xg_clas.fit(X_train_,y_train_)\n",
    "    \n",
    "    y_pred = xg_clas.predict(X_val)\n",
    "\n",
    "    score = fbeta_score(y_val, y_pred, beta=1.7)\n",
    "    print(score)\n",
    "    waccs.append(score)"
   ]
  },
  {
   "cell_type": "code",
   "execution_count": 90,
   "metadata": {},
   "outputs": [
    {
     "data": {
      "text/html": [
       "<div>\n",
       "<style scoped>\n",
       "    .dataframe tbody tr th:only-of-type {\n",
       "        vertical-align: middle;\n",
       "    }\n",
       "\n",
       "    .dataframe tbody tr th {\n",
       "        vertical-align: top;\n",
       "    }\n",
       "\n",
       "    .dataframe thead th {\n",
       "        text-align: right;\n",
       "    }\n",
       "</style>\n",
       "<table border=\"1\" class=\"dataframe\">\n",
       "  <thead>\n",
       "    <tr style=\"text-align: right;\">\n",
       "      <th></th>\n",
       "      <th>DevCenterID</th>\n",
       "      <th>SBUID</th>\n",
       "      <th>PositionID</th>\n",
       "      <th>PositionLevel</th>\n",
       "      <th>IsTrainee</th>\n",
       "      <th>LanguageLevelID</th>\n",
       "      <th>CustomerID</th>\n",
       "      <th>ProjectID</th>\n",
       "      <th>IsInternalProject</th>\n",
       "      <th>Utilization</th>\n",
       "      <th>HourVacation</th>\n",
       "      <th>HourMobileReserve</th>\n",
       "      <th>HourLockedReserve</th>\n",
       "      <th>OnSite</th>\n",
       "      <th>CompetenceGroupID</th>\n",
       "      <th>FunctionalOfficeID</th>\n",
       "      <th>PaymentTypeId</th>\n",
       "      <th>BonusOneTime</th>\n",
       "      <th>APM</th>\n",
       "      <th>WageGross</th>\n",
       "      <th>MonthOnPosition</th>\n",
       "      <th>MonthOnSalary</th>\n",
       "    </tr>\n",
       "  </thead>\n",
       "  <tbody>\n",
       "    <tr>\n",
       "      <th>0</th>\n",
       "      <td>3</td>\n",
       "      <td>292</td>\n",
       "      <td>70</td>\n",
       "      <td>2</td>\n",
       "      <td>0</td>\n",
       "      <td>11</td>\n",
       "      <td>893EA22F-08BE-4F11-AD93-C50746E4565F</td>\n",
       "      <td>7F97465B-ED3C-45DB-BE96-86C7E493F0CD</td>\n",
       "      <td>0</td>\n",
       "      <td>0.7619</td>\n",
       "      <td>40</td>\n",
       "      <td>0</td>\n",
       "      <td>0</td>\n",
       "      <td>0</td>\n",
       "      <td>15</td>\n",
       "      <td>1</td>\n",
       "      <td>9</td>\n",
       "      <td>0</td>\n",
       "      <td>39</td>\n",
       "      <td>0.887446</td>\n",
       "      <td>1</td>\n",
       "      <td>1</td>\n",
       "    </tr>\n",
       "    <tr>\n",
       "      <th>1</th>\n",
       "      <td>3</td>\n",
       "      <td>332</td>\n",
       "      <td>70</td>\n",
       "      <td>2</td>\n",
       "      <td>0</td>\n",
       "      <td>11</td>\n",
       "      <td>893EA22F-08BE-4F11-AD93-C50746E4565F</td>\n",
       "      <td>7F97465B-ED3C-45DB-BE96-86C7E493F0CD</td>\n",
       "      <td>0</td>\n",
       "      <td>1.0000</td>\n",
       "      <td>0</td>\n",
       "      <td>0</td>\n",
       "      <td>0</td>\n",
       "      <td>0</td>\n",
       "      <td>15</td>\n",
       "      <td>1</td>\n",
       "      <td>9</td>\n",
       "      <td>200</td>\n",
       "      <td>28</td>\n",
       "      <td>0.887446</td>\n",
       "      <td>2</td>\n",
       "      <td>2</td>\n",
       "    </tr>\n",
       "  </tbody>\n",
       "</table>\n",
       "</div>"
      ],
      "text/plain": [
       "   DevCenterID  SBUID  PositionID  PositionLevel  IsTrainee  LanguageLevelID  \\\n",
       "0            3    292          70              2          0               11   \n",
       "1            3    332          70              2          0               11   \n",
       "\n",
       "                             CustomerID                             ProjectID  \\\n",
       "0  893EA22F-08BE-4F11-AD93-C50746E4565F  7F97465B-ED3C-45DB-BE96-86C7E493F0CD   \n",
       "1  893EA22F-08BE-4F11-AD93-C50746E4565F  7F97465B-ED3C-45DB-BE96-86C7E493F0CD   \n",
       "\n",
       "   IsInternalProject  Utilization  HourVacation  HourMobileReserve  \\\n",
       "0                  0       0.7619            40                  0   \n",
       "1                  0       1.0000             0                  0   \n",
       "\n",
       "   HourLockedReserve  OnSite  CompetenceGroupID  FunctionalOfficeID  \\\n",
       "0                  0       0                 15                   1   \n",
       "1                  0       0                 15                   1   \n",
       "\n",
       "   PaymentTypeId  BonusOneTime  APM  WageGross  MonthOnPosition  MonthOnSalary  \n",
       "0              9             0   39   0.887446                1              1  \n",
       "1              9           200   28   0.887446                2              2  "
      ]
     },
     "execution_count": 90,
     "metadata": {},
     "output_type": "execute_result"
    }
   ],
   "source": [
    "X_train.head(2)"
   ]
  },
  {
   "cell_type": "code",
   "execution_count": 94,
   "metadata": {},
   "outputs": [],
   "source": [
    "X_test = X_test.drop(\"Date\", axis=1)"
   ]
  },
  {
   "cell_type": "code",
   "execution_count": 95,
   "metadata": {},
   "outputs": [],
   "source": [
    "X_test_encode = encoder.transform(X_test)"
   ]
  },
  {
   "cell_type": "code",
   "execution_count": 105,
   "metadata": {},
   "outputs": [],
   "source": [
    "xg_clas = xgb.XGBClassifier(\n",
    "        learning_rate =0.1, \n",
    "        n_estimators=1000,\n",
    "        gamma=0.4,\n",
    "        subsample=0.55,\n",
    "        colsample_bytree=0.85,\n",
    "        max_depth = 3,\n",
    "        min_child_weight = 5,\n",
    "        objective= 'binary:logistic', nthread=10,scale_pos_weight=95,seed=27\n",
    "    )"
   ]
  },
  {
   "cell_type": "code",
   "execution_count": 106,
   "metadata": {},
   "outputs": [
    {
     "data": {
      "text/plain": [
       "XGBClassifier(base_score=0.5, booster=None, colsample_bylevel=1,\n",
       "       colsample_bynode=1, colsample_bytree=0.85, gamma=0.4, gpu_id=-1,\n",
       "       importance_type='gain', interaction_constraints=None,\n",
       "       learning_rate=0.1, max_delta_step=0, max_depth=3,\n",
       "       min_child_weight=5, missing=nan, monotone_constraints=None,\n",
       "       n_estimators=1000, n_jobs=10, nthread=10, num_parallel_tree=1,\n",
       "       objective='binary:logistic', random_state=27, reg_alpha=0,\n",
       "       reg_lambda=1, scale_pos_weight=95, seed=27, subsample=0.55,\n",
       "       tree_method=None, validate_parameters=False, verbosity=None)"
      ]
     },
     "execution_count": 106,
     "metadata": {},
     "output_type": "execute_result"
    }
   ],
   "source": [
    "xg_clas.fit(X,y)"
   ]
  },
  {
   "cell_type": "code",
   "execution_count": 107,
   "metadata": {},
   "outputs": [],
   "source": [
    "y_pred = xg_clas.predict(X_test_encode)"
   ]
  },
  {
   "cell_type": "code",
   "execution_count": 108,
   "metadata": {},
   "outputs": [
    {
     "data": {
      "text/plain": [
       "1    2854\n",
       "0    1302\n",
       "dtype: int64"
      ]
     },
     "execution_count": 108,
     "metadata": {},
     "output_type": "execute_result"
    }
   ],
   "source": [
    "pd.Series(y_pred).value_counts()"
   ]
  },
  {
   "cell_type": "code",
   "execution_count": 109,
   "metadata": {},
   "outputs": [],
   "source": [
    "subm = pd.DataFrame({\"EmployeeID\": X_test_Employee, \"target\":y_pred})"
   ]
  },
  {
   "cell_type": "code",
   "execution_count": 110,
   "metadata": {},
   "outputs": [],
   "source": [
    "subm.to_csv(\"subm_xgbost_2.csv\", index=None)"
   ]
  },
  {
   "cell_type": "code",
   "execution_count": null,
   "metadata": {},
   "outputs": [],
   "source": []
  },
  {
   "cell_type": "code",
   "execution_count": 16,
   "metadata": {},
   "outputs": [],
   "source": [
    "#!pip install category_encoders --user"
   ]
  }
 ],
 "metadata": {
  "kernelspec": {
   "display_name": "Python 3",
   "language": "python",
   "name": "python3"
  },
  "language_info": {
   "codemirror_mode": {
    "name": "ipython",
    "version": 3
   },
   "file_extension": ".py",
   "mimetype": "text/x-python",
   "name": "python",
   "nbconvert_exporter": "python",
   "pygments_lexer": "ipython3",
   "version": "3.6.10"
  }
 },
 "nbformat": 4,
 "nbformat_minor": 2
}
