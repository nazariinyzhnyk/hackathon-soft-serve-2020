{
 "cells": [
  {
   "cell_type": "code",
   "execution_count": 32,
   "metadata": {},
   "outputs": [],
   "source": [
    "import os\n",
    "\n",
    "import pandas as pd\n",
    "import numpy as np"
   ]
  },
  {
   "cell_type": "code",
   "execution_count": 2,
   "metadata": {},
   "outputs": [
    {
     "data": {
      "text/plain": [
       "['history.csv', 'submission.csv', 'employees.csv']"
      ]
     },
     "execution_count": 2,
     "metadata": {},
     "output_type": "execute_result"
    }
   ],
   "source": [
    "DATA_DIR = os.path.join('..', 'data')\n",
    "os.listdir(DATA_DIR)"
   ]
  },
  {
   "cell_type": "code",
   "execution_count": 3,
   "metadata": {},
   "outputs": [],
   "source": [
    "hist = pd.read_csv(os.path.join(DATA_DIR, 'history.csv'))\n",
    "empls = pd.read_csv(os.path.join(DATA_DIR, 'employees.csv'))\n",
    "sbmsn = pd.read_csv(os.path.join(DATA_DIR, 'submission.csv'))"
   ]
  },
  {
   "cell_type": "code",
   "execution_count": 4,
   "metadata": {},
   "outputs": [
    {
     "data": {
      "text/html": [
       "<div>\n",
       "<style scoped>\n",
       "    .dataframe tbody tr th:only-of-type {\n",
       "        vertical-align: middle;\n",
       "    }\n",
       "\n",
       "    .dataframe tbody tr th {\n",
       "        vertical-align: top;\n",
       "    }\n",
       "\n",
       "    .dataframe thead th {\n",
       "        text-align: right;\n",
       "    }\n",
       "</style>\n",
       "<table border=\"1\" class=\"dataframe\">\n",
       "  <thead>\n",
       "    <tr style=\"text-align: right;\">\n",
       "      <th></th>\n",
       "      <th>EmployeeID</th>\n",
       "      <th>Date</th>\n",
       "      <th>DevCenterID</th>\n",
       "      <th>SBUID</th>\n",
       "      <th>PositionID</th>\n",
       "      <th>PositionLevel</th>\n",
       "      <th>IsTrainee</th>\n",
       "      <th>LanguageLevelID</th>\n",
       "      <th>CustomerID</th>\n",
       "      <th>ProjectID</th>\n",
       "      <th>...</th>\n",
       "      <th>HourLockedReserve</th>\n",
       "      <th>OnSite</th>\n",
       "      <th>CompetenceGroupID</th>\n",
       "      <th>FunctionalOfficeID</th>\n",
       "      <th>PaymentTypeId</th>\n",
       "      <th>BonusOneTime</th>\n",
       "      <th>APM</th>\n",
       "      <th>WageGross</th>\n",
       "      <th>MonthOnPosition</th>\n",
       "      <th>MonthOnSalary</th>\n",
       "    </tr>\n",
       "  </thead>\n",
       "  <tbody>\n",
       "    <tr>\n",
       "      <td>0</td>\n",
       "      <td>00116D71-E87D-4B64-A566-1F29B2A798A8</td>\n",
       "      <td>7/1/17</td>\n",
       "      <td>3</td>\n",
       "      <td>292</td>\n",
       "      <td>70</td>\n",
       "      <td>2</td>\n",
       "      <td>0</td>\n",
       "      <td>11</td>\n",
       "      <td>893EA22F-08BE-4F11-AD93-C50746E4565F</td>\n",
       "      <td>7F97465B-ED3C-45DB-BE96-86C7E493F0CD</td>\n",
       "      <td>...</td>\n",
       "      <td>0</td>\n",
       "      <td>0</td>\n",
       "      <td>15</td>\n",
       "      <td>1</td>\n",
       "      <td>9</td>\n",
       "      <td>0</td>\n",
       "      <td>39</td>\n",
       "      <td>0.887446</td>\n",
       "      <td>1</td>\n",
       "      <td>1</td>\n",
       "    </tr>\n",
       "    <tr>\n",
       "      <td>1</td>\n",
       "      <td>00116D71-E87D-4B64-A566-1F29B2A798A8</td>\n",
       "      <td>8/1/17</td>\n",
       "      <td>3</td>\n",
       "      <td>332</td>\n",
       "      <td>70</td>\n",
       "      <td>2</td>\n",
       "      <td>0</td>\n",
       "      <td>11</td>\n",
       "      <td>893EA22F-08BE-4F11-AD93-C50746E4565F</td>\n",
       "      <td>7F97465B-ED3C-45DB-BE96-86C7E493F0CD</td>\n",
       "      <td>...</td>\n",
       "      <td>0</td>\n",
       "      <td>0</td>\n",
       "      <td>15</td>\n",
       "      <td>1</td>\n",
       "      <td>9</td>\n",
       "      <td>200</td>\n",
       "      <td>28</td>\n",
       "      <td>0.887446</td>\n",
       "      <td>2</td>\n",
       "      <td>2</td>\n",
       "    </tr>\n",
       "    <tr>\n",
       "      <td>2</td>\n",
       "      <td>00116D71-E87D-4B64-A566-1F29B2A798A8</td>\n",
       "      <td>9/1/17</td>\n",
       "      <td>3</td>\n",
       "      <td>332</td>\n",
       "      <td>70</td>\n",
       "      <td>2</td>\n",
       "      <td>0</td>\n",
       "      <td>11</td>\n",
       "      <td>893EA22F-08BE-4F11-AD93-C50746E4565F</td>\n",
       "      <td>7F97465B-ED3C-45DB-BE96-86C7E493F0CD</td>\n",
       "      <td>...</td>\n",
       "      <td>0</td>\n",
       "      <td>0</td>\n",
       "      <td>15</td>\n",
       "      <td>1</td>\n",
       "      <td>9</td>\n",
       "      <td>0</td>\n",
       "      <td>43</td>\n",
       "      <td>0.887446</td>\n",
       "      <td>3</td>\n",
       "      <td>3</td>\n",
       "    </tr>\n",
       "    <tr>\n",
       "      <td>3</td>\n",
       "      <td>00116D71-E87D-4B64-A566-1F29B2A798A8</td>\n",
       "      <td>10/1/17</td>\n",
       "      <td>3</td>\n",
       "      <td>332</td>\n",
       "      <td>70</td>\n",
       "      <td>2</td>\n",
       "      <td>0</td>\n",
       "      <td>11</td>\n",
       "      <td>893EA22F-08BE-4F11-AD93-C50746E4565F</td>\n",
       "      <td>7F97465B-ED3C-45DB-BE96-86C7E493F0CD</td>\n",
       "      <td>...</td>\n",
       "      <td>0</td>\n",
       "      <td>0</td>\n",
       "      <td>15</td>\n",
       "      <td>1</td>\n",
       "      <td>9</td>\n",
       "      <td>0</td>\n",
       "      <td>49</td>\n",
       "      <td>0.887446</td>\n",
       "      <td>4</td>\n",
       "      <td>4</td>\n",
       "    </tr>\n",
       "    <tr>\n",
       "      <td>4</td>\n",
       "      <td>00116D71-E87D-4B64-A566-1F29B2A798A8</td>\n",
       "      <td>11/1/17</td>\n",
       "      <td>3</td>\n",
       "      <td>332</td>\n",
       "      <td>70</td>\n",
       "      <td>2</td>\n",
       "      <td>0</td>\n",
       "      <td>11</td>\n",
       "      <td>893EA22F-08BE-4F11-AD93-C50746E4565F</td>\n",
       "      <td>7F97465B-ED3C-45DB-BE96-86C7E493F0CD</td>\n",
       "      <td>...</td>\n",
       "      <td>0</td>\n",
       "      <td>0</td>\n",
       "      <td>15</td>\n",
       "      <td>1</td>\n",
       "      <td>9</td>\n",
       "      <td>0</td>\n",
       "      <td>43</td>\n",
       "      <td>0.887446</td>\n",
       "      <td>5</td>\n",
       "      <td>5</td>\n",
       "    </tr>\n",
       "  </tbody>\n",
       "</table>\n",
       "<p>5 rows × 24 columns</p>\n",
       "</div>"
      ],
      "text/plain": [
       "                             EmployeeID     Date  DevCenterID  SBUID  \\\n",
       "0  00116D71-E87D-4B64-A566-1F29B2A798A8   7/1/17            3    292   \n",
       "1  00116D71-E87D-4B64-A566-1F29B2A798A8   8/1/17            3    332   \n",
       "2  00116D71-E87D-4B64-A566-1F29B2A798A8   9/1/17            3    332   \n",
       "3  00116D71-E87D-4B64-A566-1F29B2A798A8  10/1/17            3    332   \n",
       "4  00116D71-E87D-4B64-A566-1F29B2A798A8  11/1/17            3    332   \n",
       "\n",
       "   PositionID  PositionLevel  IsTrainee  LanguageLevelID  \\\n",
       "0          70              2          0               11   \n",
       "1          70              2          0               11   \n",
       "2          70              2          0               11   \n",
       "3          70              2          0               11   \n",
       "4          70              2          0               11   \n",
       "\n",
       "                             CustomerID                             ProjectID  \\\n",
       "0  893EA22F-08BE-4F11-AD93-C50746E4565F  7F97465B-ED3C-45DB-BE96-86C7E493F0CD   \n",
       "1  893EA22F-08BE-4F11-AD93-C50746E4565F  7F97465B-ED3C-45DB-BE96-86C7E493F0CD   \n",
       "2  893EA22F-08BE-4F11-AD93-C50746E4565F  7F97465B-ED3C-45DB-BE96-86C7E493F0CD   \n",
       "3  893EA22F-08BE-4F11-AD93-C50746E4565F  7F97465B-ED3C-45DB-BE96-86C7E493F0CD   \n",
       "4  893EA22F-08BE-4F11-AD93-C50746E4565F  7F97465B-ED3C-45DB-BE96-86C7E493F0CD   \n",
       "\n",
       "   ...  HourLockedReserve  OnSite  CompetenceGroupID  FunctionalOfficeID  \\\n",
       "0  ...                  0       0                 15                   1   \n",
       "1  ...                  0       0                 15                   1   \n",
       "2  ...                  0       0                 15                   1   \n",
       "3  ...                  0       0                 15                   1   \n",
       "4  ...                  0       0                 15                   1   \n",
       "\n",
       "   PaymentTypeId  BonusOneTime  APM  WageGross  MonthOnPosition  MonthOnSalary  \n",
       "0              9             0   39   0.887446                1              1  \n",
       "1              9           200   28   0.887446                2              2  \n",
       "2              9             0   43   0.887446                3              3  \n",
       "3              9             0   49   0.887446                4              4  \n",
       "4              9             0   43   0.887446                5              5  \n",
       "\n",
       "[5 rows x 24 columns]"
      ]
     },
     "execution_count": 4,
     "metadata": {},
     "output_type": "execute_result"
    }
   ],
   "source": [
    "hist.head()"
   ]
  },
  {
   "cell_type": "code",
   "execution_count": 5,
   "metadata": {},
   "outputs": [
    {
     "data": {
      "text/html": [
       "<div>\n",
       "<style scoped>\n",
       "    .dataframe tbody tr th:only-of-type {\n",
       "        vertical-align: middle;\n",
       "    }\n",
       "\n",
       "    .dataframe tbody tr th {\n",
       "        vertical-align: top;\n",
       "    }\n",
       "\n",
       "    .dataframe thead th {\n",
       "        text-align: right;\n",
       "    }\n",
       "</style>\n",
       "<table border=\"1\" class=\"dataframe\">\n",
       "  <thead>\n",
       "    <tr style=\"text-align: right;\">\n",
       "      <th></th>\n",
       "      <th>EmployeeID</th>\n",
       "      <th>HiringDate</th>\n",
       "      <th>DismissalDate</th>\n",
       "    </tr>\n",
       "  </thead>\n",
       "  <tbody>\n",
       "    <tr>\n",
       "      <td>0</td>\n",
       "      <td>01EDC1A7-5DA7-4939-854B-0002E0DF548D</td>\n",
       "      <td>9/1/18</td>\n",
       "      <td>NaN</td>\n",
       "    </tr>\n",
       "    <tr>\n",
       "      <td>1</td>\n",
       "      <td>91C351D9-38A1-40CB-9B69-000774211859</td>\n",
       "      <td>1/1/18</td>\n",
       "      <td>2/1/19</td>\n",
       "    </tr>\n",
       "    <tr>\n",
       "      <td>2</td>\n",
       "      <td>D699327D-8A78-4FBE-9CEA-001355717D3F</td>\n",
       "      <td>2/1/18</td>\n",
       "      <td>NaN</td>\n",
       "    </tr>\n",
       "    <tr>\n",
       "      <td>3</td>\n",
       "      <td>22102E27-5EEA-44F9-8632-0017B04B1236</td>\n",
       "      <td>10/1/14</td>\n",
       "      <td>5/1/18</td>\n",
       "    </tr>\n",
       "    <tr>\n",
       "      <td>4</td>\n",
       "      <td>08C0AFA9-ABC3-4FAF-8DE2-0018AE9A69F4</td>\n",
       "      <td>9/1/10</td>\n",
       "      <td>NaN</td>\n",
       "    </tr>\n",
       "  </tbody>\n",
       "</table>\n",
       "</div>"
      ],
      "text/plain": [
       "                             EmployeeID HiringDate DismissalDate\n",
       "0  01EDC1A7-5DA7-4939-854B-0002E0DF548D     9/1/18           NaN\n",
       "1  91C351D9-38A1-40CB-9B69-000774211859     1/1/18        2/1/19\n",
       "2  D699327D-8A78-4FBE-9CEA-001355717D3F     2/1/18           NaN\n",
       "3  22102E27-5EEA-44F9-8632-0017B04B1236    10/1/14        5/1/18\n",
       "4  08C0AFA9-ABC3-4FAF-8DE2-0018AE9A69F4     9/1/10           NaN"
      ]
     },
     "execution_count": 5,
     "metadata": {},
     "output_type": "execute_result"
    }
   ],
   "source": [
    "empls.head()"
   ]
  },
  {
   "cell_type": "code",
   "execution_count": 6,
   "metadata": {},
   "outputs": [],
   "source": [
    "df = hist.merge(empls)"
   ]
  },
  {
   "cell_type": "code",
   "execution_count": 8,
   "metadata": {},
   "outputs": [
    {
     "data": {
      "text/plain": [
       "87766"
      ]
     },
     "execution_count": 8,
     "metadata": {},
     "output_type": "execute_result"
    }
   ],
   "source": [
    "len(df)"
   ]
  },
  {
   "cell_type": "code",
   "execution_count": 9,
   "metadata": {},
   "outputs": [
    {
     "data": {
      "text/plain": [
       "87766"
      ]
     },
     "execution_count": 9,
     "metadata": {},
     "output_type": "execute_result"
    }
   ],
   "source": [
    "len(hist)"
   ]
  },
  {
   "cell_type": "code",
   "execution_count": 22,
   "metadata": {},
   "outputs": [
    {
     "data": {
      "text/plain": [
       "20"
      ]
     },
     "execution_count": 22,
     "metadata": {},
     "output_type": "execute_result"
    }
   ],
   "source": [
    "len(df[df.EmployeeID == df.EmployeeID.unique()[0]]['DismissalDate'])"
   ]
  },
  {
   "cell_type": "code",
   "execution_count": 23,
   "metadata": {},
   "outputs": [
    {
     "data": {
      "text/plain": [
       "[1, 2, 3, 4, 5, 6]"
      ]
     },
     "execution_count": 23,
     "metadata": {},
     "output_type": "execute_result"
    }
   ],
   "source": [
    "[1,2,3] + [4,5,6]"
   ]
  },
  {
   "cell_type": "code",
   "execution_count": 30,
   "metadata": {},
   "outputs": [],
   "source": [
    "def label_df(df, n_month=3):\n",
    "    labels = []\n",
    "    for emp in df.EmployeeID.unique():\n",
    "        curr_emp = list(df[df.EmployeeID == emp]['DismissalDate'])\n",
    "        len_emp = len(curr_emp)\n",
    "        if pd.isnull(curr_emp[0]):\n",
    "            labels += [0 for i in range(len_emp - n_month)] + [2 for i in range(n_month)]\n",
    "        else:\n",
    "            labels += [0 for i in range(len_emp - n_month)] + [1 for i in range(n_month)]\n",
    "    return labels"
   ]
  },
  {
   "cell_type": "code",
   "execution_count": 31,
   "metadata": {},
   "outputs": [],
   "source": [
    "lbls= label_df(df)"
   ]
  },
  {
   "cell_type": "code",
   "execution_count": 33,
   "metadata": {},
   "outputs": [
    {
     "data": {
      "text/plain": [
       "array([0, 1, 2])"
      ]
     },
     "execution_count": 33,
     "metadata": {},
     "output_type": "execute_result"
    }
   ],
   "source": [
    "np.unique(lbls)"
   ]
  },
  {
   "cell_type": "code",
   "execution_count": 36,
   "metadata": {},
   "outputs": [
    {
     "data": {
      "text/plain": [
       "{0: 71647, 1: 3051, 2: 13068}"
      ]
     },
     "execution_count": 36,
     "metadata": {},
     "output_type": "execute_result"
    }
   ],
   "source": [
    "unique, counts = np.unique(lbls, return_counts=True)\n",
    "dict(zip(unique, counts))"
   ]
  },
  {
   "cell_type": "code",
   "execution_count": 37,
   "metadata": {},
   "outputs": [],
   "source": [
    "df['target'] = lbls"
   ]
  },
  {
   "cell_type": "code",
   "execution_count": 50,
   "metadata": {},
   "outputs": [
    {
     "data": {
      "text/plain": [
       "array([0, 1, 2])"
      ]
     },
     "execution_count": 50,
     "metadata": {},
     "output_type": "execute_result"
    }
   ],
   "source": [
    "np.unique(df.target)"
   ]
  },
  {
   "cell_type": "code",
   "execution_count": 49,
   "metadata": {},
   "outputs": [
    {
     "data": {
      "text/plain": [
       "20"
      ]
     },
     "execution_count": 49,
     "metadata": {},
     "output_type": "execute_result"
    }
   ],
   "source": [
    "max(list(df.groupby('EmployeeID').count()['target']))"
   ]
  },
  {
   "cell_type": "code",
   "execution_count": 51,
   "metadata": {},
   "outputs": [],
   "source": [
    "df = df[df.target != 2]"
   ]
  },
  {
   "cell_type": "code",
   "execution_count": 52,
   "metadata": {},
   "outputs": [
    {
     "data": {
      "text/plain": [
       "array([0, 1])"
      ]
     },
     "execution_count": 52,
     "metadata": {},
     "output_type": "execute_result"
    }
   ],
   "source": [
    "np.unique(df.target)"
   ]
  },
  {
   "cell_type": "code",
   "execution_count": 54,
   "metadata": {},
   "outputs": [
    {
     "data": {
      "text/plain": [
       "0        0\n",
       "1        0\n",
       "2        0\n",
       "3        0\n",
       "4        0\n",
       "        ..\n",
       "87758    1\n",
       "87759    1\n",
       "87760    1\n",
       "87761    1\n",
       "87762    1\n",
       "Name: IsTrainee, Length: 74698, dtype: int64"
      ]
     },
     "execution_count": 54,
     "metadata": {},
     "output_type": "execute_result"
    }
   ],
   "source": [
    "df.IsTrainee"
   ]
  },
  {
   "cell_type": "code",
   "execution_count": 58,
   "metadata": {},
   "outputs": [
    {
     "data": {
      "text/html": [
       "<div>\n",
       "<style scoped>\n",
       "    .dataframe tbody tr th:only-of-type {\n",
       "        vertical-align: middle;\n",
       "    }\n",
       "\n",
       "    .dataframe tbody tr th {\n",
       "        vertical-align: top;\n",
       "    }\n",
       "\n",
       "    .dataframe thead th {\n",
       "        text-align: right;\n",
       "    }\n",
       "</style>\n",
       "<table border=\"1\" class=\"dataframe\">\n",
       "  <thead>\n",
       "    <tr style=\"text-align: right;\">\n",
       "      <th></th>\n",
       "      <th>EmployeeID</th>\n",
       "      <th>Date</th>\n",
       "      <th>DevCenterID</th>\n",
       "      <th>SBUID</th>\n",
       "      <th>PositionID</th>\n",
       "      <th>PositionLevel</th>\n",
       "      <th>IsTrainee</th>\n",
       "      <th>LanguageLevelID</th>\n",
       "      <th>CustomerID</th>\n",
       "      <th>ProjectID</th>\n",
       "      <th>...</th>\n",
       "      <th>FunctionalOfficeID</th>\n",
       "      <th>PaymentTypeId</th>\n",
       "      <th>BonusOneTime</th>\n",
       "      <th>APM</th>\n",
       "      <th>WageGross</th>\n",
       "      <th>MonthOnPosition</th>\n",
       "      <th>MonthOnSalary</th>\n",
       "      <th>HiringDate</th>\n",
       "      <th>DismissalDate</th>\n",
       "      <th>target</th>\n",
       "    </tr>\n",
       "  </thead>\n",
       "  <tbody>\n",
       "    <tr>\n",
       "      <td>16</td>\n",
       "      <td>00116D71-E87D-4B64-A566-1F29B2A798A8</td>\n",
       "      <td>11/1/18</td>\n",
       "      <td>3</td>\n",
       "      <td>284</td>\n",
       "      <td>70</td>\n",
       "      <td>2</td>\n",
       "      <td>0</td>\n",
       "      <td>11</td>\n",
       "      <td>888A91D6-1F35-4337-ADCD-E4D7F0399DF1</td>\n",
       "      <td>4AAF7425-575B-46CB-A42D-F43A53187D32</td>\n",
       "      <td>...</td>\n",
       "      <td>1</td>\n",
       "      <td>22</td>\n",
       "      <td>0</td>\n",
       "      <td>44</td>\n",
       "      <td>0.988548</td>\n",
       "      <td>17</td>\n",
       "      <td>3</td>\n",
       "      <td>6/1/13</td>\n",
       "      <td>NaN</td>\n",
       "      <td>0</td>\n",
       "    </tr>\n",
       "  </tbody>\n",
       "</table>\n",
       "<p>1 rows × 27 columns</p>\n",
       "</div>"
      ],
      "text/plain": [
       "                              EmployeeID     Date  DevCenterID  SBUID  \\\n",
       "16  00116D71-E87D-4B64-A566-1F29B2A798A8  11/1/18            3    284   \n",
       "\n",
       "    PositionID  PositionLevel  IsTrainee  LanguageLevelID  \\\n",
       "16          70              2          0               11   \n",
       "\n",
       "                              CustomerID  \\\n",
       "16  888A91D6-1F35-4337-ADCD-E4D7F0399DF1   \n",
       "\n",
       "                               ProjectID  ...  FunctionalOfficeID  \\\n",
       "16  4AAF7425-575B-46CB-A42D-F43A53187D32  ...                   1   \n",
       "\n",
       "    PaymentTypeId  BonusOneTime  APM  WageGross  MonthOnPosition  \\\n",
       "16             22             0   44   0.988548               17   \n",
       "\n",
       "    MonthOnSalary  HiringDate  DismissalDate  target  \n",
       "16              3      6/1/13            NaN       0  \n",
       "\n",
       "[1 rows x 27 columns]"
      ]
     },
     "execution_count": 58,
     "metadata": {},
     "output_type": "execute_result"
    }
   ],
   "source": [
    "df[df.EmployeeID == df.EmployeeID.unique()[0]].tail(1)"
   ]
  },
  {
   "cell_type": "code",
   "execution_count": 59,
   "metadata": {},
   "outputs": [],
   "source": [
    "def get_df_for_pred(df, needed):\n",
    "    df_to_pred = pd.DataFrame()\n",
    "    for emp in df.EmployeeID.unique():\n",
    "        df_to_pred.append(df[df.EmployeeID == emp].tail(1), ignore_index=True)\n",
    "    return df_to_pred"
   ]
  },
  {
   "cell_type": "code",
   "execution_count": 61,
   "metadata": {},
   "outputs": [],
   "source": [
    "df_to = get_df_for_pred(df)"
   ]
  },
  {
   "cell_type": "code",
   "execution_count": 62,
   "metadata": {},
   "outputs": [
    {
     "data": {
      "text/html": [
       "<div>\n",
       "<style scoped>\n",
       "    .dataframe tbody tr th:only-of-type {\n",
       "        vertical-align: middle;\n",
       "    }\n",
       "\n",
       "    .dataframe tbody tr th {\n",
       "        vertical-align: top;\n",
       "    }\n",
       "\n",
       "    .dataframe thead th {\n",
       "        text-align: right;\n",
       "    }\n",
       "</style>\n",
       "<table border=\"1\" class=\"dataframe\">\n",
       "  <thead>\n",
       "    <tr style=\"text-align: right;\">\n",
       "      <th></th>\n",
       "    </tr>\n",
       "  </thead>\n",
       "  <tbody>\n",
       "  </tbody>\n",
       "</table>\n",
       "</div>"
      ],
      "text/plain": [
       "Empty DataFrame\n",
       "Columns: []\n",
       "Index: []"
      ]
     },
     "execution_count": 62,
     "metadata": {},
     "output_type": "execute_result"
    }
   ],
   "source": [
    "df_to"
   ]
  },
  {
   "cell_type": "code",
   "execution_count": 66,
   "metadata": {},
   "outputs": [],
   "source": [
    "wdf = hist[hist['EmployeeID'] == 'FFF3B179-1D20-40FF-A330-A051BDF37301']"
   ]
  },
  {
   "cell_type": "code",
   "execution_count": 69,
   "metadata": {},
   "outputs": [
    {
     "data": {
      "text/plain": [
       "[87756, 87757, 87758, 87759, 87760, 87761, 87762, 87763, 87764, 87765]"
      ]
     },
     "execution_count": 69,
     "metadata": {},
     "output_type": "execute_result"
    }
   ],
   "source": [
    "list(wdf.index)"
   ]
  },
  {
   "cell_type": "code",
   "execution_count": null,
   "metadata": {},
   "outputs": [],
   "source": []
  }
 ],
 "metadata": {
  "kernelspec": {
   "display_name": "Python 3",
   "language": "python",
   "name": "python3"
  },
  "language_info": {
   "codemirror_mode": {
    "name": "ipython",
    "version": 3
   },
   "file_extension": ".py",
   "mimetype": "text/x-python",
   "name": "python",
   "nbconvert_exporter": "python",
   "pygments_lexer": "ipython3",
   "version": "3.7.4"
  }
 },
 "nbformat": 4,
 "nbformat_minor": 4
}
