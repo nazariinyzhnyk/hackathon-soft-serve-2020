{
 "cells": [
  {
   "cell_type": "code",
   "execution_count": 30,
   "metadata": {},
   "outputs": [],
   "source": [
    "import pandas as pd\n",
    "import numpy as np\n",
    "\n",
    "from sklearn.metrics import fbeta_score\n",
    "\n",
    "pd.options.display.max_colwidth=100\n",
    "pd.options.display.max_columns=300\n",
    "\n",
    "employees = pd.read_csv(\"../data/employees.csv\")\n",
    "history = pd.read_csv(\"../data/history.csv\")\n",
    "submission = pd.read_csv(\"../data/submission.csv\")\n",
    "\n",
    "# history.loc[:,'Date'] = list(pd.to_datetime(history['Date']))\n",
    "\n",
    "def get_month(text):\n",
    "    if type(text) == str:\n",
    "        numbers = text.split(\"/\")\n",
    "        return int(numbers[0])\n",
    "\n",
    "def get_year(text):\n",
    "    if type(text) == str:\n",
    "        numbers = text.split(\"/\")\n",
    "        return int(numbers[-1])\n",
    "\n",
    "df = history.merge(employees)\n",
    "\n",
    "# for data labeling\n",
    "def label_df(data, n_month=3):\n",
    "    labels = []\n",
    "    for emp in data.EmployeeID.unique():\n",
    "        curr_emp = list(data[data.EmployeeID == emp]['DismissalDate'])\n",
    "        len_emp = len(curr_emp)\n",
    "        if pd.isnull(curr_emp[0]):\n",
    "            labels += [0 for _ in range(len_emp - n_month)] + [2 for _ in range(n_month)]\n",
    "        else:\n",
    "            labels += [0 for _ in range(len_emp - n_month)] + [1 for _ in range(n_month)]\n",
    "    return labels\n",
    "\n",
    "lbls = label_df(df)"
   ]
  },
  {
   "cell_type": "code",
   "execution_count": 25,
   "metadata": {},
   "outputs": [],
   "source": [
    "df['target'] = lbls\n",
    "df = df[df.target!=2]"
   ]
  },
  {
   "cell_type": "code",
   "execution_count": 26,
   "metadata": {},
   "outputs": [],
   "source": [
    "columns_to_drop = ['EmployeeID', 'HiringDate', 'DismissalDate']\n",
    "\n",
    "cat_columns = ['DevCenterID', 'SBUID', 'PositionID', 'PositionLevel', \n",
    "               'IsTrainee', 'LanguageLevelID', 'CustomerID', 'ProjectID', \n",
    "               'IsInternalProject', 'OnSite', 'CompetenceGroupID', 'FunctionalOfficeID',\n",
    "               'PaymentTypeId']\n",
    "\n",
    "X = df.drop(columns_to_drop, axis = 1)"
   ]
  },
  {
   "cell_type": "code",
   "execution_count": 27,
   "metadata": {},
   "outputs": [],
   "source": [
    "from category_encoders.basen import BaseNEncoder\n",
    "encoder = BaseNEncoder(cols = cat_columns, base = 2)\n",
    "X = encoder.fit_transform(X)"
   ]
  },
  {
   "cell_type": "code",
   "execution_count": 35,
   "metadata": {},
   "outputs": [],
   "source": [
    "from sklearn.model_selection import KFold\n",
    "from sklearn.ensemble import RandomForestClassifier\n",
    "import random\n",
    "\n",
    "RANDOM_SEED = 42\n",
    "\n",
    "def set_seed(random_state=RANDOM_SEED):\n",
    "    random.seed(random_state)\n",
    "    np.random.seed(random_state)\n",
    "\n",
    "set_seed()\n",
    "\n",
    "def model_fit(X_train, y_train):\n",
    "    clf2 = RandomForestClassifier(n_estimators=200,\n",
    "                               min_samples_split=20,\n",
    "                               min_samples_leaf=20,\n",
    "                               max_features='sqrt',\n",
    "                               max_depth=40,\n",
    "                               bootstrap =True,\n",
    "                               n_jobs = 8)\n",
    "    clf2 = clf2.fit(X_train, y_train)\n",
    "    return clf2\n",
    "\n",
    "def model_predict(X, models):\n",
    "    preds = models.predict(X)\n",
    "    return preds"
   ]
  },
  {
   "cell_type": "code",
   "execution_count": 43,
   "metadata": {
    "scrolled": false
   },
   "outputs": [
    {
     "name": "stdout",
     "output_type": "stream",
     "text": [
      "fold:  1\n",
      "train: 37678\n",
      "val: 4541\n",
      " \n",
      "FOLD #1\n",
      "END OF MODEL FIT\n",
      "Validation Score: 0.0\n",
      "fold:  2\n",
      "train: 46720\n",
      "val: 4580\n",
      " \n",
      "FOLD #2\n",
      "END OF MODEL FIT\n",
      "Validation Score: 0.0\n",
      "fold:  3\n",
      "train: 55850\n",
      "val: 4721\n",
      " \n",
      "FOLD #3\n",
      "END OF MODEL FIT\n",
      "Validation Score: 0.0\n",
      "fold:  4\n",
      "train: 65198\n",
      "val: 4577\n",
      " \n",
      "FOLD #4\n",
      "END OF MODEL FIT\n",
      "Validation Score: 0.0\n",
      "fold:  5\n",
      "train: 74428\n",
      "val: 130\n",
      " \n",
      "FOLD #5\n",
      "END OF MODEL FIT\n",
      "Validation Score: 0.0\n",
      "MEAN OF SCOREs: 0.0\n"
     ]
    }
   ],
   "source": [
    "X[\"month\"] = X[\"Date\"].apply(get_month)\n",
    "X[\"year\"] = X[\"Date\"].apply(get_year)\n",
    "X = X.sort_values([\"year\",\"month\"])\n",
    "X[\"year_month\"] = X.apply(lambda row: str(row[\"year\"])+\"_\"+str(row[\"month\"]), axis=1)\n",
    "year_month = list(X.year_month.unique())\n",
    "mapping_year_month = dict(zip(year_month, range(len(year_month))))\n",
    "X[\"order_in_time\"] = X[\"year_month\"].map(mapping_year_month)\n",
    "splits = [[[0,9],[10,11]],\n",
    "          [[0,11],[12,13]],\n",
    "          [[0,13],[14,15]],\n",
    "          [[0,15],[16,17]],\n",
    "          [[0,17],[18,19]]]\n",
    "\n",
    "fold = 0\n",
    "scores = []\n",
    "for split in splits:\n",
    "    fold += 1\n",
    "    \n",
    "    X_train = X.query(f\"order_in_time >= \"+str(split[0][0])+\" & order_in_time <\"+str(split[0][1]))\n",
    "    X_val = X.query(f\"order_in_time >= \"+str(split[1][0])+\" & order_in_time <\"+str(split[1][1]))\n",
    "    \n",
    "    y_train = X_train['target']\n",
    "    y_val = list(X_val['target'])\n",
    "    \n",
    "    X_train =X_train.drop(columns=[\"month\", \"year\", \"year_month\", \"order_in_time\", \"Date\",'target'])\n",
    "    X_val =X_val.drop(columns=[\"month\", \"year\", \"year_month\", \"order_in_time\", \"Date\",'target'])\n",
    "    \n",
    "    print(\"fold: \", fold)\n",
    "    print(\"train:\", len(X_train))\n",
    "    print(\"val:\",len(X_val))\n",
    "    print(\" \")\n",
    "    \n",
    "    print('FOLD #{}'.format(fold))\n",
    "    models = model_fit(X_train, y_train)\n",
    "    print('END OF MODEL FIT')\n",
    "    \n",
    "    y_pred = model_predict(X_val, models)\n",
    "\n",
    "    score = fbeta_score(y_val, y_pred, beta=1.7)\n",
    "    \n",
    "    print('Validation Score: {}'.format(score))\n",
    "    scores.append(score)\n",
    "    \n",
    "mean_score = np.mean(scores)\n",
    "print('MEAN OF SCOREs: {}'.format(mean_score))   \n",
    "    \n",
    "    "
   ]
  },
  {
   "cell_type": "code",
   "execution_count": null,
   "metadata": {},
   "outputs": [],
   "source": []
  },
  {
   "cell_type": "code",
   "execution_count": null,
   "metadata": {},
   "outputs": [],
   "source": []
  },
  {
   "cell_type": "code",
   "execution_count": null,
   "metadata": {},
   "outputs": [],
   "source": []
  },
  {
   "cell_type": "code",
   "execution_count": null,
   "metadata": {},
   "outputs": [],
   "source": []
  },
  {
   "cell_type": "code",
   "execution_count": null,
   "metadata": {},
   "outputs": [],
   "source": []
  }
 ],
 "metadata": {
  "kernelspec": {
   "display_name": "Python 3",
   "language": "python",
   "name": "python3"
  },
  "language_info": {
   "codemirror_mode": {
    "name": "ipython",
    "version": 3
   },
   "file_extension": ".py",
   "mimetype": "text/x-python",
   "name": "python",
   "nbconvert_exporter": "python",
   "pygments_lexer": "ipython3",
   "version": "3.7.3"
  }
 },
 "nbformat": 4,
 "nbformat_minor": 4
}
