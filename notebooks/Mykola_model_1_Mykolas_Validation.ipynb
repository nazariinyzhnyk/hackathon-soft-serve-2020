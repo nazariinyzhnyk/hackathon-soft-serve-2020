{
 "cells": [
  {
   "cell_type": "code",
   "execution_count": 3,
   "metadata": {},
   "outputs": [],
   "source": [
    "import pandas as pd\n",
    "import numpy as np\n",
    "\n",
    "from sklearn.metrics import fbeta_score\n",
    "\n",
    "pd.options.display.max_colwidth=100\n",
    "pd.options.display.max_columns=300\n",
    "\n",
    "employees = pd.read_csv(\"../data/employees.csv\")\n",
    "history = pd.read_csv(\"../data/history.csv\")\n",
    "submission = pd.read_csv(\"../data/submission.csv\")\n",
    "\n",
    "history.loc[:,'Date'] = list(pd.to_datetime(history['Date']))\n",
    "\n",
    "def get_month(text):\n",
    "    if type(text) == str:\n",
    "        numbers = text.split(\"/\")\n",
    "        return int(numbers[0])\n",
    "\n",
    "def get_year(text):\n",
    "    if type(text) == str:\n",
    "        numbers = text.split(\"/\")\n",
    "        return int(numbers[-1])\n",
    "\n",
    "df = history.merge(employees)\n",
    "\n",
    "# for data labeling\n",
    "def label_df(data, n_month=3):\n",
    "    labels = []\n",
    "    for emp in data.EmployeeID.unique():\n",
    "        curr_emp = list(data[data.EmployeeID == emp]['DismissalDate'])\n",
    "        len_emp = len(curr_emp)\n",
    "        if pd.isnull(curr_emp[0]):\n",
    "            labels += [0 for _ in range(len_emp - n_month)] + [2 for _ in range(n_month)]\n",
    "        else:\n",
    "            labels += [0 for _ in range(len_emp - n_month)] + [1 for _ in range(n_month)]\n",
    "    return labels\n",
    "\n",
    "lbls = label_df(df)"
   ]
  },
  {
   "cell_type": "code",
   "execution_count": 4,
   "metadata": {},
   "outputs": [],
   "source": [
    "df['target'] = lbls\n",
    "test = df[df.target==2]\n",
    "df = df[df.target!=2]"
   ]
  },
  {
   "cell_type": "code",
   "execution_count": 5,
   "metadata": {},
   "outputs": [],
   "source": [
    "columns_to_drop = ['HiringDate', 'DismissalDate']\n",
    "\n",
    "cat_columns = ['DevCenterID', 'SBUID', 'PositionID', 'PositionLevel', \n",
    "               'IsTrainee', 'LanguageLevelID', 'CustomerID', 'ProjectID', \n",
    "               'IsInternalProject', 'OnSite', 'CompetenceGroupID', 'FunctionalOfficeID',\n",
    "               'PaymentTypeId']\n",
    "\n",
    "X = df.drop(columns_to_drop, axis = 1)\n",
    "\n",
    "from category_encoders.basen import BaseNEncoder\n",
    "encoder = BaseNEncoder(cols = cat_columns, base = 2)\n",
    "X = encoder.fit_transform(X)"
   ]
  },
  {
   "cell_type": "code",
   "execution_count": 54,
   "metadata": {},
   "outputs": [],
   "source": [
    "empls = np.array(X.EmployeeID.unique())\n",
    "# X_test = pd.DataFrame(columns = X.columns)"
   ]
  },
  {
   "cell_type": "code",
   "execution_count": 47,
   "metadata": {},
   "outputs": [
    {
     "name": "stderr",
     "output_type": "stream",
     "text": [
      "  0%|          | 0/5373 [00:00<?, ?it/s]/Users/trokhymovych/anaconda3/lib/python3.7/site-packages/ipykernel_launcher.py:6: UserWarning: Boolean Series key will be reindexed to match DataFrame index.\n",
      "  \n",
      "100%|██████████| 5373/5373 [02:52<00:00, 31.17it/s]\n"
     ]
    }
   ],
   "source": [
    "### Developing X_test\n",
    "from tqdm import tqdm\n",
    "\n",
    "for em in tqdm(empls):\n",
    "    max_date = X[X.EmployeeID == em].Date.max()\n",
    "    X_test_em = X[X.EmployeeID == em][X.Date == max_date]\n",
    "    X_test = pd.concat([X_test, X_test_em], axis = 0)\n",
    "    X = X.drop(X_test_em.index.values)"
   ]
  },
  {
   "cell_type": "code",
   "execution_count": 64,
   "metadata": {},
   "outputs": [],
   "source": [
    "# !pip install imblearn\n",
    "from sklearn.model_selection import KFold\n",
    "from sklearn.ensemble import RandomForestClassifier\n",
    "from imblearn.ensemble import BalancedRandomForestClassifier\n",
    "import random\n",
    "\n",
    "RANDOM_SEED = 42\n",
    "\n",
    "def set_seed(random_state=RANDOM_SEED):\n",
    "    random.seed(random_state)\n",
    "    np.random.seed(random_state)\n",
    "\n",
    "set_seed()\n",
    "def model_fit(X_train, y_train):\n",
    "    clf2 = BalancedRandomForestClassifier(n_estimators=200, n_jobs = 8)\n",
    "    clf2 = clf2.fit(X_train, y_train)\n",
    "    return clf2\n",
    "\n",
    "def model_predict(X, models):\n",
    "    preds = models.predict(X)\n",
    "    return preds"
   ]
  },
  {
   "cell_type": "code",
   "execution_count": 81,
   "metadata": {
    "scrolled": false
   },
   "outputs": [
    {
     "name": "stdout",
     "output_type": "stream",
     "text": [
      "fold:  0\n",
      "train: 55545\n",
      "val: 1075\n",
      " \n",
      "FOLD #0\n",
      "END OF MODEL FIT\n",
      "Validation Score: 0.4504117841658976\n",
      "fold:  0\n",
      "train: 55456\n",
      "val: 1075\n",
      " \n",
      "FOLD #0\n",
      "END OF MODEL FIT\n",
      "Validation Score: 0.4510675218734542\n",
      "fold:  0\n",
      "train: 55670\n",
      "val: 1075\n",
      " \n",
      "FOLD #0\n",
      "END OF MODEL FIT\n",
      "Validation Score: 0.5058359053094988\n",
      "fold:  0\n",
      "train: 55118\n",
      "val: 1074\n",
      " \n",
      "FOLD #0\n",
      "END OF MODEL FIT\n",
      "Validation Score: 0.4076861780449356\n",
      "fold:  0\n",
      "train: 55511\n",
      "val: 1074\n",
      " \n",
      "FOLD #0\n",
      "END OF MODEL FIT\n",
      "Validation Score: 0.4388267869962055\n",
      "MEAN OF SCOREs: 0.4507656352779984\n"
     ]
    }
   ],
   "source": [
    "from sklearn.preprocessing import MinMaxScaler\n",
    "scaler = MinMaxScaler()\n",
    "\n",
    "USE_SCALER = True\n",
    "RANDOM_SEED = 42\n",
    "\n",
    "fold = 0\n",
    "scores = []\n",
    "\n",
    "kf = KFold(n_splits=5, random_state=RANDOM_SEED, shuffle=True)\n",
    "kf.get_n_splits(empls)\n",
    "\n",
    "for train_index, test_index in kf.split(empls):\n",
    "    train_emps = empls[train_index]\n",
    "    test_emps = empls[test_index]\n",
    "    \n",
    "    X_train = X[X.EmployeeID.isin(train_emps)]\n",
    "    X_val = X_test[X_test.EmployeeID.isin(test_emps)]\n",
    "\n",
    "    y_train = X_train.target.values.astype(int)\n",
    "    y_val = X_val.target.values.astype(int)\n",
    "    \n",
    "    X_train = X_train.drop(columns=[\"EmployeeID\", \"Date\",'target'])\n",
    "    X_val = X_val.drop(columns=[\"EmployeeID\", \"Date\",'target'])\n",
    "    \n",
    "    if USE_SCALER:\n",
    "        X_train = scaler.fit_transform(X_train)\n",
    "        X_val = scaler.transform(X_val)\n",
    "    \n",
    "    print(\"fold: \", fold)\n",
    "    print(\"train:\", len(X_train))\n",
    "    print(\"val:\",len(X_val))\n",
    "    print(\" \")\n",
    "    \n",
    "    print('FOLD #{}'.format(fold))\n",
    "    models = model_fit(X_train, y_train)\n",
    "    print('END OF MODEL FIT')\n",
    "    \n",
    "    y_pred = model_predict(X_val, models)\n",
    "    \n",
    "    tmp = y_pred\n",
    "    tmp2 = y_val\n",
    "\n",
    "    score = fbeta_score(y_val, y_pred, beta=1.7)\n",
    "    \n",
    "    print('Validation Score: {}'.format(score))\n",
    "    scores.append(score)\n",
    "    \n",
    "mean_score = np.mean(scores)\n",
    "print('MEAN OF SCOREs: {}'.format(mean_score))   \n",
    "\n",
    "# model = model_fit(X, y)   "
   ]
  },
  {
   "cell_type": "code",
   "execution_count": null,
   "metadata": {},
   "outputs": [],
   "source": []
  },
  {
   "cell_type": "code",
   "execution_count": null,
   "metadata": {},
   "outputs": [],
   "source": []
  },
  {
   "cell_type": "code",
   "execution_count": null,
   "metadata": {},
   "outputs": [],
   "source": []
  },
  {
   "cell_type": "code",
   "execution_count": null,
   "metadata": {},
   "outputs": [],
   "source": []
  },
  {
   "cell_type": "code",
   "execution_count": null,
   "metadata": {},
   "outputs": [],
   "source": []
  },
  {
   "cell_type": "code",
   "execution_count": null,
   "metadata": {},
   "outputs": [],
   "source": []
  },
  {
   "cell_type": "code",
   "execution_count": null,
   "metadata": {},
   "outputs": [],
   "source": []
  },
  {
   "cell_type": "code",
   "execution_count": 138,
   "metadata": {},
   "outputs": [],
   "source": [
    "from datetime import datetime\n",
    "\n",
    "history.loc[:,'Date'] = list(pd.to_datetime(history['Date']))\n",
    "\n",
    "df = history.merge(employees)\n",
    "df['target'] = lbls\n",
    "\n",
    "X_test = df[df.target==2]\n",
    "X_test = X_test[X_test.Date == datetime(2019,2,1)]\n",
    "\n",
    "X_test = X_test[X_test.EmployeeID.isin(set(submission.EmployeeID))]"
   ]
  },
  {
   "cell_type": "code",
   "execution_count": 139,
   "metadata": {},
   "outputs": [],
   "source": [
    "emp_ids = X_test.EmployeeID\n",
    "X_test = X_test.drop(columns_to_drop, axis = 1)\n",
    "\n",
    "X_test = encoder.transform(X_test)\n",
    "\n",
    "X_test = X_test.drop(columns=[\"Date\",'target'])"
   ]
  },
  {
   "cell_type": "code",
   "execution_count": 140,
   "metadata": {},
   "outputs": [],
   "source": [
    "preds = model.predict(X_test)"
   ]
  },
  {
   "cell_type": "code",
   "execution_count": 143,
   "metadata": {},
   "outputs": [],
   "source": [
    "result = pd.DataFrame({'EmployeeID':emp_ids, 'target':preds})"
   ]
  },
  {
   "cell_type": "code",
   "execution_count": 144,
   "metadata": {},
   "outputs": [],
   "source": [
    "result.to_csv('Mykola_initial_submit.csv', index = False)"
   ]
  },
  {
   "cell_type": "code",
   "execution_count": 145,
   "metadata": {},
   "outputs": [
    {
     "data": {
      "text/plain": [
       "4156"
      ]
     },
     "execution_count": 145,
     "metadata": {},
     "output_type": "execute_result"
    }
   ],
   "source": [
    "submission = pd.read_csv(\"../data/submission.csv\")\n",
    "len(submission.EmployeeID.unique())"
   ]
  },
  {
   "cell_type": "code",
   "execution_count": null,
   "metadata": {},
   "outputs": [],
   "source": []
  },
  {
   "cell_type": "code",
   "execution_count": null,
   "metadata": {},
   "outputs": [],
   "source": []
  },
  {
   "cell_type": "code",
   "execution_count": null,
   "metadata": {},
   "outputs": [],
   "source": []
  },
  {
   "cell_type": "code",
   "execution_count": null,
   "metadata": {},
   "outputs": [],
   "source": []
  },
  {
   "cell_type": "code",
   "execution_count": null,
   "metadata": {},
   "outputs": [],
   "source": []
  },
  {
   "cell_type": "code",
   "execution_count": null,
   "metadata": {},
   "outputs": [],
   "source": []
  },
  {
   "cell_type": "code",
   "execution_count": null,
   "metadata": {},
   "outputs": [],
   "source": []
  },
  {
   "cell_type": "code",
   "execution_count": null,
   "metadata": {},
   "outputs": [],
   "source": []
  },
  {
   "cell_type": "code",
   "execution_count": null,
   "metadata": {},
   "outputs": [],
   "source": []
  },
  {
   "cell_type": "code",
   "execution_count": null,
   "metadata": {},
   "outputs": [],
   "source": []
  },
  {
   "cell_type": "code",
   "execution_count": null,
   "metadata": {},
   "outputs": [],
   "source": []
  },
  {
   "cell_type": "code",
   "execution_count": null,
   "metadata": {},
   "outputs": [],
   "source": []
  },
  {
   "cell_type": "code",
   "execution_count": null,
   "metadata": {},
   "outputs": [],
   "source": []
  },
  {
   "cell_type": "code",
   "execution_count": null,
   "metadata": {},
   "outputs": [],
   "source": []
  },
  {
   "cell_type": "code",
   "execution_count": null,
   "metadata": {},
   "outputs": [],
   "source": []
  },
  {
   "cell_type": "code",
   "execution_count": null,
   "metadata": {},
   "outputs": [],
   "source": []
  },
  {
   "cell_type": "code",
   "execution_count": null,
   "metadata": {},
   "outputs": [],
   "source": []
  },
  {
   "cell_type": "code",
   "execution_count": null,
   "metadata": {},
   "outputs": [],
   "source": []
  },
  {
   "cell_type": "code",
   "execution_count": null,
   "metadata": {},
   "outputs": [],
   "source": []
  },
  {
   "cell_type": "code",
   "execution_count": null,
   "metadata": {},
   "outputs": [],
   "source": []
  },
  {
   "cell_type": "code",
   "execution_count": null,
   "metadata": {},
   "outputs": [],
   "source": []
  },
  {
   "cell_type": "code",
   "execution_count": null,
   "metadata": {},
   "outputs": [],
   "source": []
  },
  {
   "cell_type": "code",
   "execution_count": null,
   "metadata": {},
   "outputs": [],
   "source": []
  },
  {
   "cell_type": "code",
   "execution_count": null,
   "metadata": {},
   "outputs": [],
   "source": []
  },
  {
   "cell_type": "code",
   "execution_count": null,
   "metadata": {},
   "outputs": [],
   "source": []
  },
  {
   "cell_type": "code",
   "execution_count": null,
   "metadata": {},
   "outputs": [],
   "source": []
  },
  {
   "cell_type": "code",
   "execution_count": null,
   "metadata": {},
   "outputs": [],
   "source": []
  }
 ],
 "metadata": {
  "kernelspec": {
   "display_name": "Python 3",
   "language": "python",
   "name": "python3"
  },
  "language_info": {
   "codemirror_mode": {
    "name": "ipython",
    "version": 3
   },
   "file_extension": ".py",
   "mimetype": "text/x-python",
   "name": "python",
   "nbconvert_exporter": "python",
   "pygments_lexer": "ipython3",
   "version": "3.7.3"
  }
 },
 "nbformat": 4,
 "nbformat_minor": 4
}
